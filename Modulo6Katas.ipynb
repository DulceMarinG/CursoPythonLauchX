{
 "cells": [
  {
   "cell_type": "markdown",
   "metadata": {},
   "source": [
    ">**Ejercicio 1. Usar listas para almacenar nombres de planetas**\n",
    "\n"
   ]
  },
  {
   "cell_type": "code",
   "execution_count": 5,
   "metadata": {},
   "outputs": [],
   "source": [
    "#Creamos la lista planets y la mostramos\n",
    "\n",
    "list_planets = ['Mercurio', 'Venus', 'Tierra', 'Marte', 'Júpite', 'Saturno', 'Urano', 'Neptuno']\n"
   ]
  },
  {
   "cell_type": "code",
   "execution_count": 6,
   "metadata": {},
   "outputs": [
    {
     "name": "stdout",
     "output_type": "stream",
     "text": [
      "['Mercurio', 'Venus', 'Tierra', 'Marte', 'Júpite', 'Saturno', 'Urano', 'Neptuno', 'Plutón']\n"
     ]
    }
   ],
   "source": [
    "# Agregamos a plutón y mostramos el último elemento\n",
    "\n",
    "list_planets.append('Plutón')\n",
    "\n",
    "print(list_planets)\n",
    "\n"
   ]
  },
  {
   "cell_type": "markdown",
   "metadata": {},
   "source": [
    ">**Ejercicio 2: Trabajando con datos de una lista**\n",
    "\n",
    "Es posible que debas trabajar con diferentes secciones de una lista. En nuestro ejemplo, queremos mostrar planetas más cerca y más lejos del sol de un planeta que el usuario ingresa por teclado.\n"
   ]
  },
  {
   "cell_type": "code",
   "execution_count": 12,
   "metadata": {},
   "outputs": [],
   "source": [
    "list_planets\n",
    "\n",
    "# Solicitamos el nombre de un planeta *Pista:  input()*\n",
    "\n",
    "planet = 'Tierra' #input('Ingresa el planeta que buscas. NOTA: Pon la primera letra en máyuscula')\n",
    "\n"
   ]
  },
  {
   "cell_type": "code",
   "execution_count": 14,
   "metadata": {},
   "outputs": [
    {
     "name": "stdout",
     "output_type": "stream",
     "text": [
      "2\n"
     ]
    }
   ],
   "source": [
    "# Busca el planeta en la lista\n",
    "planet_found = list_planets.index(planet)\n",
    "print(planet_found)\n"
   ]
  },
  {
   "cell_type": "code",
   "execution_count": 17,
   "metadata": {},
   "outputs": [
    {
     "name": "stdout",
     "output_type": "stream",
     "text": [
      "Here are the planets closer than Tierra\n",
      "['Mercurio', 'Venus']\n"
     ]
    }
   ],
   "source": [
    "# Muestra los planetas más cercanos al sol\n",
    "\n",
    "print('Here are the planets closer than ' + planet)\n",
    "print(list_planets[0:planet_found])"
   ]
  },
  {
   "cell_type": "code",
   "execution_count": 18,
   "metadata": {},
   "outputs": [
    {
     "name": "stdout",
     "output_type": "stream",
     "text": [
      "Here are the planets further than Tierra\n",
      "['Marte', 'Júpite', 'Saturno', 'Urano', 'Neptuno', 'Plutón']\n"
     ]
    }
   ],
   "source": [
    "# Muestra los planetas más lejanos al sol\n",
    "\n",
    "print('Here are the planets further than ' + planet)\n",
    "print(list_planets[planet_found + 1:])"
   ]
  },
  {
   "cell_type": "code",
   "execution_count": 19,
   "metadata": {},
   "outputs": [
    {
     "name": "stdout",
     "output_type": "stream",
     "text": [
      "['Mercurio', 'Venus', 'Tierra', 'Marte', 'Júpiter', 'Saturno', 'Urano', 'Neptuno', 'Plutón']\n"
     ]
    }
   ],
   "source": [
    "list_planets[4] = 'Júpiter'\n",
    "print(list_planets)"
   ]
  }
 ],
 "metadata": {
  "interpreter": {
   "hash": "916dbcbb3f70747c44a77c7bcd40155683ae19c65e1c03b4aa3499c5328201f1"
  },
  "kernelspec": {
   "display_name": "Python 3.8.10 64-bit",
   "language": "python",
   "name": "python3"
  },
  "language_info": {
   "codemirror_mode": {
    "name": "ipython",
    "version": 3
   },
   "file_extension": ".py",
   "mimetype": "text/x-python",
   "name": "python",
   "nbconvert_exporter": "python",
   "pygments_lexer": "ipython3",
   "version": "3.8.10"
  },
  "orig_nbformat": 4
 },
 "nbformat": 4,
 "nbformat_minor": 2
}
