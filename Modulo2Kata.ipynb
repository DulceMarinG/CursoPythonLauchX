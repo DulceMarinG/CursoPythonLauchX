{
 "cells": [
  {
   "cell_type": "markdown",
   "metadata": {},
   "source": [
    "## Crear un entorno virtual \n",
    "\n",
    "* Ejecutar en la terminal ``python3 -m venv env ``\n",
    "\n",
    "![](../CursoIntroPython/images/Env1.png)\n",
    "\n"
   ]
  },
  {
   "cell_type": "markdown",
   "metadata": {},
   "source": [
    "Activar el entorno virtual ``source activate``\n",
    "\n",
    "![](../CursoIntroPython/images/(env).png)"
   ]
  },
  {
   "cell_type": "markdown",
   "metadata": {},
   "source": [
    "Instalar un paquete \n",
    "\n",
    "![](../CursoIntroPython/images/Freeze.png)"
   ]
  }
 ],
 "metadata": {
  "language_info": {
   "name": "python"
  },
  "orig_nbformat": 4
 },
 "nbformat": 4,
 "nbformat_minor": 2
}
